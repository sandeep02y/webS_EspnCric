{
 "cells": [
  {
   "cell_type": "code",
   "execution_count": 1,
   "id": "bee9ae60",
   "metadata": {
    "_cell_guid": "0a001436-0056-4b66-afb3-0894fb18b861",
    "_uuid": "9e723892-9a47-45d0-9517-b89c3773df46",
    "collapsed": false,
    "execution": {
     "iopub.execute_input": "2023-12-16T14:42:53.564839Z",
     "iopub.status.busy": "2023-12-16T14:42:53.564340Z",
     "iopub.status.idle": "2023-12-16T14:42:54.689044Z",
     "shell.execute_reply": "2023-12-16T14:42:54.688004Z"
    },
    "jupyter": {
     "outputs_hidden": false
    },
    "papermill": {
     "duration": 1.134571,
     "end_time": "2023-12-16T14:42:54.691833",
     "exception": false,
     "start_time": "2023-12-16T14:42:53.557262",
     "status": "completed"
    },
    "tags": []
   },
   "outputs": [],
   "source": [
    "import requests\n",
    "from bs4 import BeautifulSoup\n",
    "import pandas as pd\n",
    "\n",
    "# Define URL and headers"
   ]
  },
  {
   "cell_type": "markdown",
   "id": "3b59f314",
   "metadata": {
    "_cell_guid": "9fc838f0-ff9f-4de0-bad9-88c412837f6a",
    "_uuid": "6c509188-32a0-438d-b219-596ce815945b",
    "papermill": {
     "duration": 0.004164,
     "end_time": "2023-12-16T14:42:54.700896",
     "exception": false,
     "start_time": "2023-12-16T14:42:54.696732",
     "status": "completed"
    },
    "tags": []
   },
   "source": [
    "https://www.espncricinfo.com/series/england-women-in-india-2023-24-1406061/india-women-vs-england-women-3rd-t20i-1406075/match-playing-xi"
   ]
  },
  {
   "cell_type": "code",
   "execution_count": 2,
   "id": "f8e22a0c",
   "metadata": {
    "_cell_guid": "cc6defdb-07ea-4ebb-bbb8-13af67de994d",
    "_uuid": "c0166412-0e23-4fe3-9cfe-85c0565d2824",
    "collapsed": false,
    "execution": {
     "iopub.execute_input": "2023-12-16T14:42:54.711785Z",
     "iopub.status.busy": "2023-12-16T14:42:54.711212Z",
     "iopub.status.idle": "2023-12-16T14:42:54.717524Z",
     "shell.execute_reply": "2023-12-16T14:42:54.716297Z"
    },
    "jupyter": {
     "outputs_hidden": false
    },
    "papermill": {
     "duration": 0.015753,
     "end_time": "2023-12-16T14:42:54.721059",
     "exception": false,
     "start_time": "2023-12-16T14:42:54.705306",
     "status": "completed"
    },
    "tags": []
   },
   "outputs": [
    {
     "name": "stdout",
     "output_type": "stream",
     "text": [
      "1406075\n"
     ]
    }
   ],
   "source": [
    "#url = input()\n",
    "url=\" https://www.espncricinfo.com/series/england-women-in-india-2023-24-1406061/india-women-vs-england-women-3rd-t20i-1406075/match-playing-xi\"\n",
    "match_id=url[-24:-17]\n",
    "print(str(match_id))"
   ]
  },
  {
   "cell_type": "code",
   "execution_count": 3,
   "id": "69c33bc7",
   "metadata": {
    "_cell_guid": "996c145f-b04b-4719-b306-87944b1b39e4",
    "_uuid": "bd1770b4-41f9-4cbe-946a-b0f5e53a4948",
    "collapsed": false,
    "execution": {
     "iopub.execute_input": "2023-12-16T14:42:54.732255Z",
     "iopub.status.busy": "2023-12-16T14:42:54.731820Z",
     "iopub.status.idle": "2023-12-16T14:42:55.303920Z",
     "shell.execute_reply": "2023-12-16T14:42:55.302635Z"
    },
    "jupyter": {
     "outputs_hidden": false
    },
    "papermill": {
     "duration": 0.580961,
     "end_time": "2023-12-16T14:42:55.306744",
     "exception": false,
     "start_time": "2023-12-16T14:42:54.725783",
     "status": "completed"
    },
    "tags": []
   },
   "outputs": [],
   "source": [
    "headers = { \"User-Agent\": \"Mozilla/5.0 (Windows NT 10.0; Win64; x64) AppleWebKit/537.36 (KHTML, like Gecko) Chrome/107.0.0.0 Safari/537.36\"\n",
    "}\n",
    "\n",
    "# Get HTML content\n",
    "response = requests.get(url, headers=headers)\n",
    "soup = BeautifulSoup(response.content, \"lxml\")\n",
    "\n",
    "# Find recent matches table\n",
    "table = soup.find(\"table\", class_=\"ds-table-sm\")"
   ]
  },
  {
   "cell_type": "code",
   "execution_count": 4,
   "id": "7604e0a0",
   "metadata": {
    "_cell_guid": "c4872a44-3efb-42a5-a056-8f07f1dbc6d7",
    "_uuid": "97a31b39-1c40-457e-b5ce-19b7542a83e0",
    "collapsed": false,
    "execution": {
     "iopub.execute_input": "2023-12-16T14:42:55.317724Z",
     "iopub.status.busy": "2023-12-16T14:42:55.317304Z",
     "iopub.status.idle": "2023-12-16T14:42:55.325756Z",
     "shell.execute_reply": "2023-12-16T14:42:55.324496Z"
    },
    "jupyter": {
     "outputs_hidden": false
    },
    "papermill": {
     "duration": 0.017015,
     "end_time": "2023-12-16T14:42:55.328531",
     "exception": false,
     "start_time": "2023-12-16T14:42:55.311516",
     "status": "completed"
    },
    "tags": []
   },
   "outputs": [
    {
     "name": "stdout",
     "output_type": "stream",
     "text": [
      "Smriti Mandhana https://www.espncricinfo.com/cricketers/smriti-mandhana-597806/matches\n",
      "Sophia Dunkley https://www.espncricinfo.com/cricketers/sophia-dunkley-885815/matches\n",
      "Shafali Verma https://www.espncricinfo.com/cricketers/shafali-verma-1182523/matches\n",
      "Maia Bouchier https://www.espncricinfo.com/cricketers/maia-bouchier-1022077/matches\n",
      "Jemimah Rodrigues https://www.espncricinfo.com/cricketers/jemimah-rodrigues-883405/matches\n",
      "Alice Capsey https://www.espncricinfo.com/cricketers/alice-capsey-1187120/matches\n",
      "Deepti Sharma https://www.espncricinfo.com/cricketers/deepti-sharma-597811/matches\n",
      "Heather Knight (c) https://www.espncricinfo.com/cricketers/heather-knight-358259/matches\n",
      "Harmanpreet Kaur (c) https://www.espncricinfo.com/cricketers/harmanpreet-kaur-372317/matches\n",
      "Amy Jones † https://www.espncricinfo.com/cricketers/amy-jones-515874/matches\n",
      "Richa Ghosh † https://www.espncricinfo.com/cricketers/richa-ghosh-1212830/matches\n",
      "Danielle Gibson https://www.espncricinfo.com/cricketers/danielle-gibson-886203/matches\n",
      "Amanjot Kaur https://www.espncricinfo.com/cricketers/amanjot-kaur-1255411/matches\n",
      "Bess Heath https://www.espncricinfo.com/cricketers/bess-heath-916037/matches\n",
      "Shreyanka Patil https://www.espncricinfo.com/cricketers/shreyanka-patil-1289948/matches\n",
      "Freya Kemp https://www.espncricinfo.com/cricketers/freya-kemp-1195947/matches\n",
      "Saika Ishaque https://www.espncricinfo.com/cricketers/saika-ishaque-597815/matches\n",
      "Sophie Ecclestone https://www.espncricinfo.com/cricketers/sophie-ecclestone-878039/matches\n",
      "Titas Sadhu https://www.espncricinfo.com/cricketers/titas-sadhu-1255407/matches\n",
      "Charlie Dean https://www.espncricinfo.com/cricketers/charlie-dean-1039421/matches\n",
      "Renuka Singh https://www.espncricinfo.com/cricketers/renuka-singh-960853/matches\n",
      "Mahika Gaur https://www.espncricinfo.com/cricketers/mahika-gaur-1171433/matches\n",
      "Kanika Ahuja https://www.espncricinfo.com/cricketers/kanika-ahuja-1255560/matches\n",
      "Lauren Bell https://www.espncricinfo.com/cricketers/lauren-bell-878025/matches\n",
      "Yastika Bhatia † https://www.espncricinfo.com/cricketers/yastika-bhatia-960715/matches\n",
      "Sarah Glenn https://www.espncricinfo.com/cricketers/sarah-glenn-885837/matches\n",
      "Mannat Kashyap https://www.espncricinfo.com/cricketers/mannat-kashyap-1346682/matches\n",
      "Nat Sciver-Brunt https://www.espncricinfo.com/cricketers/nat-sciver-brunt-515905/matches\n",
      "Minnu Mani https://www.espncricinfo.com/cricketers/minnu-mani-960949/matches\n",
      "Danni Wyatt https://www.espncricinfo.com/cricketers/danni-wyatt-254168/matches\n",
      "Pooja Vastrakar https://www.espncricinfo.com/cricketers/pooja-vastrakar-883413/matches\n",
      "Number Of player 31\n"
     ]
    }
   ],
   "source": [
    "# Create Dictionary\n",
    "players_list = {}\n",
    "\n",
    "for profile_links in table.find_all(\"a\"):\n",
    "   # data.append([cell.text.strip() for cell in row.find_all(\"td\") ])\n",
    "    player_name = profile_links.get(\"title\").strip()\n",
    "    player_link = \"https://www.espncricinfo.com\" + profile_links.get(\"href\") + \"/matches\"\n",
    "    \n",
    "    players_list[player_name] = player_link # add details to dictionary\n",
    "    \n",
    "   # data.append(player_name,player_link)\n",
    "\n",
    "for x, y in players_list.items():\n",
    "    print(x, y)\n",
    "\n",
    "print(\"Number Of player\", len(players_list))"
   ]
  },
  {
   "cell_type": "code",
   "execution_count": 5,
   "id": "21612bd3",
   "metadata": {
    "_cell_guid": "1c43536f-11f8-4f4d-84a6-08776d3296a9",
    "_uuid": "17e41339-df5b-48f8-bd2f-1fe877be9ca1",
    "collapsed": false,
    "execution": {
     "iopub.execute_input": "2023-12-16T14:42:55.340038Z",
     "iopub.status.busy": "2023-12-16T14:42:55.339638Z",
     "iopub.status.idle": "2023-12-16T14:42:55.345644Z",
     "shell.execute_reply": "2023-12-16T14:42:55.344445Z"
    },
    "jupyter": {
     "outputs_hidden": false
    },
    "papermill": {
     "duration": 0.015095,
     "end_time": "2023-12-16T14:42:55.348535",
     "exception": false,
     "start_time": "2023-12-16T14:42:55.333440",
     "status": "completed"
    },
    "tags": []
   },
   "outputs": [
    {
     "name": "stdout",
     "output_type": "stream",
     "text": [
      "Number Of player in Playin 11 of both team  22\n"
     ]
    }
   ],
   "source": [
    "from itertools import islice\n",
    "playing_11 = dict(islice(players_list.items(),22)) # change back to 22 \n",
    "\n",
    "print(\"Number Of player in Playin 11 of both team \", len(playing_11))"
   ]
  },
  {
   "cell_type": "code",
   "execution_count": 6,
   "id": "b9c588d9",
   "metadata": {
    "_cell_guid": "faae3e6f-8b96-47a8-95ba-106fd7120359",
    "_uuid": "7bdae6cc-8147-4590-aad5-8e3e87a304b0",
    "collapsed": false,
    "execution": {
     "iopub.execute_input": "2023-12-16T14:42:55.360400Z",
     "iopub.status.busy": "2023-12-16T14:42:55.359843Z",
     "iopub.status.idle": "2023-12-16T14:43:07.186272Z",
     "shell.execute_reply": "2023-12-16T14:43:07.185135Z"
    },
    "jupyter": {
     "outputs_hidden": false
    },
    "papermill": {
     "duration": 11.835521,
     "end_time": "2023-12-16T14:43:07.189023",
     "exception": false,
     "start_time": "2023-12-16T14:42:55.353502",
     "status": "completed"
    },
    "tags": []
   },
   "outputs": [
    {
     "name": "stdout",
     "output_type": "stream",
     "text": [
      "Recent matches extracted for  1 - Smriti Mandhana\n",
      "Recent matches extracted for  2 - Sophia Dunkley\n",
      "Recent matches extracted for  3 - Shafali Verma\n",
      "Recent matches extracted for  4 - Maia Bouchier\n",
      "Recent matches extracted for  5 - Jemimah Rodrigues\n",
      "Recent matches extracted for  6 - Alice Capsey\n",
      "Recent matches extracted for  7 - Deepti Sharma\n",
      "Recent matches extracted for  8 - Heather Knight (c)\n",
      "Recent matches extracted for  9 - Harmanpreet Kaur (c)\n",
      "Recent matches extracted for  10 - Amy Jones †\n",
      "Recent matches extracted for  11 - Richa Ghosh †\n",
      "Recent matches extracted for  12 - Danielle Gibson\n",
      "Recent matches extracted for  13 - Amanjot Kaur\n",
      "Recent matches extracted for  14 - Bess Heath\n",
      "Recent matches extracted for  15 - Shreyanka Patil\n",
      "Recent matches extracted for  16 - Freya Kemp\n",
      "Recent matches extracted for  17 - Saika Ishaque\n",
      "Recent matches extracted for  18 - Sophie Ecclestone\n",
      "Recent matches extracted for  19 - Titas Sadhu\n",
      "Recent matches extracted for  20 - Charlie Dean\n",
      "Recent matches extracted for  21 - Renuka Singh\n",
      "Recent matches extracted for  22 - Mahika Gaur\n",
      "Outside Loop----\n",
      "Number of player data found in  Team 1 - 11\n",
      "Number of player data found in  Team 2 - 11\n"
     ]
    }
   ],
   "source": [
    "player_count=1\n",
    "team1_df = pd.DataFrame()\n",
    "team2_df = pd.DataFrame()\n",
    "\n",
    "\n",
    "for player_name, profile_url  in playing_11.items():    \n",
    "    profile_url = profile_url\n",
    "    headers = {\n",
    "        \"User-Agent\": \"Mozilla/5.0 (Windows NT 10.0; Win64; x64) AppleWebKit/537.36 (KHTML, like Gecko) Chrome/107.0.0.0 Safari/537.36\"\n",
    "    }\n",
    "\n",
    "    # Get HTML content\n",
    "    response = requests.get(profile_url, headers=headers)\n",
    "    soup = BeautifulSoup(response.content, \"html.parser\")\n",
    "\n",
    "    # Find recent matches table\n",
    "    table = soup.find(\"table\", class_=\"ds-table-stripped\")\n",
    "\n",
    "    # Create DataFrame\n",
    "    data = []\n",
    "    for row in table.find_all(\"tr\"): \n",
    "        data.append([cell.text.strip() for cell in row.find_all(\"td\")])\n",
    "    \n",
    "    if(len(data[1]) == 5):\n",
    "        df = pd.DataFrame(data, columns=[\"Match\", \"Bat\",  \"Date\", \"Ground\", \"Format\"])\n",
    "        df.insert(3,'Bowl/Wkt',[\"-\"]*len(df))\n",
    "        df.insert(4,'X-W',[\"-\"]*len(df))\n",
    "    elif(len(data[1]) == 6):\n",
    "        df = pd.DataFrame(data, columns=[\"Match\", \"Bat\",\"Bowl/Wkt\",  \"Date\", \"Ground\", \"Format\"])\n",
    "        df.insert(4,'X-W',[\"-\"]*len(df))  \n",
    "    elif(len(data[1]) == 7):\n",
    "        df = pd.DataFrame(data, columns=[\"Match\", \"Bat\",\"Bowl\", \"X-W\", \"Date\", \"Ground\", \"Format\"])\n",
    "    else:\n",
    "        print(\"Data column miss-match\") # Check table on site\n",
    "    df['Name'] = player_name\n",
    "    df['-']=\"-\"\n",
    "   \n",
    "    if player_count % 2 != 0: # saprate both teams data\n",
    "        team1_df = pd.concat([team1_df, df], ignore_index=True)  #Concata currnt data frame to new data frame\n",
    "    else:\n",
    "        team2_df = pd.concat([team2_df, df], ignore_index=True)  #Concata currnt data frame to new data frame\n",
    "        \n",
    "    print(\"Recent matches extracted for \" , str(player_count) +\" - \" + player_name )\n",
    "    player_count +=1\n",
    "    \n",
    "print(\"Outside Loop----\")\n",
    "print(\"Number of player data found in  Team 1 -\", team1_df['Name'].nunique())\n",
    "print(\"Number of player data found in  Team 2 -\", team2_df['Name'].nunique())"
   ]
  },
  {
   "cell_type": "code",
   "execution_count": 7,
   "id": "c2e9ef34",
   "metadata": {
    "_cell_guid": "82e51e04-8ea0-4ac6-a0dd-b849dc309e4b",
    "_uuid": "9aecd7f8-12a3-44fc-8959-7d0ddc6d0358",
    "collapsed": false,
    "execution": {
     "iopub.execute_input": "2023-12-16T14:43:07.204598Z",
     "iopub.status.busy": "2023-12-16T14:43:07.204195Z",
     "iopub.status.idle": "2023-12-16T14:43:07.225463Z",
     "shell.execute_reply": "2023-12-16T14:43:07.224024Z"
    },
    "jupyter": {
     "outputs_hidden": false
    },
    "papermill": {
     "duration": 0.032312,
     "end_time": "2023-12-16T14:43:07.228223",
     "exception": false,
     "start_time": "2023-12-16T14:43:07.195911",
     "status": "completed"
    },
    "tags": []
   },
   "outputs": [
    {
     "name": "stdout",
     "output_type": "stream",
     "text": [
      "                        Match      Bat         Date Bowl/Wkt X-W     Ground  \\\n",
      "0                        None     None         None        -   -       None   \n",
      "1    India (W) vs England (W)  17 & 26  14-Dec-2023        -   -   DY Patil   \n",
      "2    India (W) vs England (W)       48  10-Dec-2023        -   -   Wankhede   \n",
      "3    India (W) vs England (W)       10  09-Dec-2023        -   -   Wankhede   \n",
      "4    India (W) vs England (W)        6  06-Dec-2023        -   -   Wankhede   \n",
      "..                        ...      ...          ...      ...  ..        ...   \n",
      "116     RCB Women vs DC Women       --  13-Mar-2023     0/31   -   DY Patil   \n",
      "117    RCB Women vs UPW Women        3  10-Mar-2023     0/20   -  Brabourne   \n",
      "118     RCB Women vs GG Women       --  08-Mar-2023     1/36   -  Brabourne   \n",
      "119     RCB Women vs MI Women        2  06-Mar-2023     0/28   -  Brabourne   \n",
      "120     RCB Women vs DC Women       --  05-Mar-2023     0/24   -  Brabourne   \n",
      "\n",
      "           Format             Name  -  \n",
      "0            None  Smriti Mandhana  -  \n",
      "1     WTest # 146  Smriti Mandhana  -  \n",
      "2    WT20I # 1712  Smriti Mandhana  -  \n",
      "3    WT20I # 1709  Smriti Mandhana  -  \n",
      "4    WT20I # 1703  Smriti Mandhana  -  \n",
      "..            ...              ... ..  \n",
      "116          WT20     Renuka Singh  -  \n",
      "117          WT20     Renuka Singh  -  \n",
      "118          WT20     Renuka Singh  -  \n",
      "119          WT20     Renuka Singh  -  \n",
      "120          WT20     Renuka Singh  -  \n",
      "\n",
      "[121 rows x 9 columns]\n",
      "                          Match      Bat Bowl/Wkt         Date X-W  \\\n",
      "0                          None     None     None         None   -   \n",
      "1      England (W) vs India (W)  11 & 15       --  14-Dec-2023   -   \n",
      "2      England (W) vs India (W)       11       --  10-Dec-2023   -   \n",
      "3      England (W) vs India (W)        9       --  09-Dec-2023   -   \n",
      "4      England (W) vs India (W)        1       --  06-Dec-2023   -   \n",
      "..                          ...      ...      ...          ...  ..   \n",
      "116  England (W) vs S Lanka (W)       --     3/26  09-Sep-2023   -   \n",
      "117  England (W) vs S Lanka (W)        0     0/22  06-Sep-2023   -   \n",
      "118  England (W) vs S Lanka (W)       --     1/16  31-Aug-2023   -   \n",
      "119          Originals vs Brave       --     0/23  23-Aug-2023   -   \n",
      "120   Originals vs N S-Chargers       --     2/21  20-Aug-2023   -   \n",
      "\n",
      "                Ground        Format            Name  -  \n",
      "0                 None          None  Sophia Dunkley  -  \n",
      "1             DY Patil   WTest # 146  Sophia Dunkley  -  \n",
      "2             Wankhede  WT20I # 1712  Sophia Dunkley  -  \n",
      "3             Wankhede  WT20I # 1709  Sophia Dunkley  -  \n",
      "4             Wankhede  WT20I # 1703  Sophia Dunkley  -  \n",
      "..                 ...           ...             ... ..  \n",
      "116  Chester-le-Street   WODI # 1334     Mahika Gaur  -  \n",
      "117              Derby  WT20I # 1624     Mahika Gaur  -  \n",
      "118               Hove  WT20I # 1566     Mahika Gaur  -  \n",
      "119         Manchester          WT20     Mahika Gaur  -  \n",
      "120         Manchester          WT20     Mahika Gaur  -  \n",
      "\n",
      "[121 rows x 9 columns]\n"
     ]
    }
   ],
   "source": [
    "print(team1_df)\n",
    "\n",
    "print(team2_df)"
   ]
  },
  {
   "cell_type": "code",
   "execution_count": 8,
   "id": "c0e8cfb5",
   "metadata": {
    "_cell_guid": "37fd42ea-f072-4324-a868-2e702417c545",
    "_uuid": "594257eb-5415-4dd0-9236-a2dd55d4b32f",
    "collapsed": false,
    "execution": {
     "iopub.execute_input": "2023-12-16T14:43:07.243970Z",
     "iopub.status.busy": "2023-12-16T14:43:07.243600Z",
     "iopub.status.idle": "2023-12-16T14:43:07.691422Z",
     "shell.execute_reply": "2023-12-16T14:43:07.689839Z"
    },
    "jupyter": {
     "outputs_hidden": false
    },
    "papermill": {
     "duration": 0.458983,
     "end_time": "2023-12-16T14:43:07.694309",
     "exception": false,
     "start_time": "2023-12-16T14:43:07.235326",
     "status": "completed"
    },
    "tags": []
   },
   "outputs": [
    {
     "name": "stdout",
     "output_type": "stream",
     "text": [
      "File Generated 1406075\n"
     ]
    }
   ],
   "source": [
    "team1_df.to_excel(match_id + '_team1.xlsx')\n",
    "team2_df.to_excel(match_id + '_team2.xlsx')\n",
    "print(\"File Generated\", match_id)"
   ]
  }
 ],
 "metadata": {
  "kaggle": {
   "accelerator": "none",
   "dataSources": [],
   "dockerImageVersionId": 30615,
   "isGpuEnabled": false,
   "isInternetEnabled": true,
   "language": "python",
   "sourceType": "notebook"
  },
  "kernelspec": {
   "display_name": "Python 3",
   "language": "python",
   "name": "python3"
  },
  "language_info": {
   "codemirror_mode": {
    "name": "ipython",
    "version": 3
   },
   "file_extension": ".py",
   "mimetype": "text/x-python",
   "name": "python",
   "nbconvert_exporter": "python",
   "pygments_lexer": "ipython3",
   "version": "3.10.12"
  },
  "papermill": {
   "default_parameters": {},
   "duration": 18.531788,
   "end_time": "2023-12-16T14:43:08.323948",
   "environment_variables": {},
   "exception": null,
   "input_path": "__notebook__.ipynb",
   "output_path": "__notebook__.ipynb",
   "parameters": {},
   "start_time": "2023-12-16T14:42:49.792160",
   "version": "2.4.0"
  }
 },
 "nbformat": 4,
 "nbformat_minor": 5
}
